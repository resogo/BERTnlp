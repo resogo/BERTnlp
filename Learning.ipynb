{
 "cells": [
  {
   "cell_type": "code",
   "execution_count": 4,
   "metadata": {},
   "outputs": [],
   "source": [
    "import pandas as pd\n",
    "df = pd.DataFrame([[1, 2], [4, 5], [7, 8]], index=['cobra', 'viper', 'sidewinder'], columns=['max_speed', 'shield'])"
   ]
  },
  {
   "cell_type": "code",
   "execution_count": 5,
   "metadata": {},
   "outputs": [
    {
     "name": "stdout",
     "output_type": "stream",
     "text": [
      "            max_speed  shield\n",
      "cobra               1       2\n",
      "viper               4       5\n",
      "sidewinder          7       8\n"
     ]
    }
   ],
   "source": [
    "print(df)"
   ]
  },
  {
   "cell_type": "code",
   "execution_count": 8,
   "metadata": {},
   "outputs": [
    {
     "name": "stdout",
     "output_type": "stream",
     "text": [
      "            max_speed  shield\n",
      "viper               4       5\n",
      "sidewinder          7       8\n"
     ]
    }
   ],
   "source": [
    "print(df.loc[df['shield'] > 4])"
   ]
  },
  {
   "cell_type": "code",
   "execution_count": 9,
   "metadata": {},
   "outputs": [],
   "source": [
    "df = pd.read_csv('C:/Users/rebec/Downloads/NOTEEVENTS.csv')"
   ]
  },
  {
   "cell_type": "code",
   "execution_count": 10,
   "metadata": {},
   "outputs": [],
   "source": [
    "import csv\n",
    "input_file = 'C:/Users/rebec/Downloads/NOTEEVENTS.csv'\n",
    "f = open(input_file, 'r')\n",
    "rf = list(csv.reader(f))\n"
   ]
  },
  {
   "cell_type": "code",
   "execution_count": 23,
   "metadata": {},
   "outputs": [
    {
     "name": "stdout",
     "output_type": "stream",
     "text": [
      "**\n"
     ]
    }
   ],
   "source": [
    "print(\"*\"+rf[1][9]+\"*\")"
   ]
  },
  {
   "cell_type": "code",
   "execution_count": 16,
   "metadata": {},
   "outputs": [],
   "source": [
    "with open(r\"C:\\Users\\rebec\\Desktop\\Health-NLP\\BERT_Workspace\\test.txt\", \"w\") as fo:\n",
    "    for line in rf[1:]:\n",
    "        fo.write(line[10])"
   ]
  },
  {
   "cell_type": "code",
   "execution_count": 17,
   "metadata": {},
   "outputs": [],
   "source": [
    "f = open(r\"C:\\Users\\rebec\\Desktop\\Health-NLP\\BERT_Workspace\\test.txt\", 'r')\n",
    "contents =f.read()   "
   ]
  },
  {
   "cell_type": "code",
   "execution_count": 19,
   "metadata": {},
   "outputs": [
    {
     "name": "stdout",
     "output_type": "stream",
     "text": [
      "19265874\n"
     ]
    }
   ],
   "source": [
    "print(len(contents))"
   ]
  },
  {
   "cell_type": "code",
   "execution_count": 7,
   "metadata": {
    "scrolled": false
   },
   "outputs": [
    {
     "name": "stdout",
     "output_type": "stream",
     "text": [
      "python3 ./bert/bert_ner.py --task_name=NER --do_train=True --do_eval=True --data_dir=./data --vocab_file=./uncasedBERT/vocab.txt --bert_config_file=./uncasedBERT/bert_config.json --init_checkpoint=./mimicpretraining/out/model.ckpt-0 --do_lower_case=True --output_dir=./fine_out_5e/checkpoint_0 --num_train_epochs=2.0;\n",
      "python3 ./bert/bert_ner.py --task_name=NER --do_train=True --do_eval=True --data_dir=./data --vocab_file=./uncasedBERT/vocab.txt --bert_config_file=./uncasedBERT/bert_config.json --init_checkpoint=./mimicpretraining/out/model.ckpt-20000 --do_lower_case=True --output_dir=./fine_out_5e/checkpoint_20000 --num_train_epochs=2.0;\n",
      "python3 ./bert/bert_ner.py --task_name=NER --do_train=True --do_eval=True --data_dir=./data --vocab_file=./uncasedBERT/vocab.txt --bert_config_file=./uncasedBERT/bert_config.json --init_checkpoint=./mimicpretraining/out/model.ckpt-40000 --do_lower_case=True --output_dir=./fine_out_5e/checkpoint_40000 --num_train_epochs=2.0;\n",
      "python3 ./bert/bert_ner.py --task_name=NER --do_train=True --do_eval=True --data_dir=./data --vocab_file=./uncasedBERT/vocab.txt --bert_config_file=./uncasedBERT/bert_config.json --init_checkpoint=./mimicpretraining/out/model.ckpt-60000 --do_lower_case=True --output_dir=./fine_out_5e/checkpoint_60000 --num_train_epochs=2.0;\n",
      "python3 ./bert/bert_ner.py --task_name=NER --do_train=True --do_eval=True --data_dir=./data --vocab_file=./uncasedBERT/vocab.txt --bert_config_file=./uncasedBERT/bert_config.json --init_checkpoint=./mimicpretraining/out/model.ckpt-80000 --do_lower_case=True --output_dir=./fine_out_5e/checkpoint_80000 --num_train_epochs=2.0;\n",
      "python3 ./bert/bert_ner.py --task_name=NER --do_train=True --do_eval=True --data_dir=./data --vocab_file=./uncasedBERT/vocab.txt --bert_config_file=./uncasedBERT/bert_config.json --init_checkpoint=./mimicpretraining/out/model.ckpt-100000 --do_lower_case=True --output_dir=./fine_out_5e/checkpoint_100000 --num_train_epochs=2.0;\n",
      "python3 ./bert/bert_ner.py --task_name=NER --do_train=True --do_eval=True --data_dir=./data --vocab_file=./uncasedBERT/vocab.txt --bert_config_file=./uncasedBERT/bert_config.json --init_checkpoint=./mimicpretraining/out/model.ckpt-120000 --do_lower_case=True --output_dir=./fine_out_5e/checkpoint_120000 --num_train_epochs=2.0;\n",
      "python3 ./bert/bert_ner.py --task_name=NER --do_train=True --do_eval=True --data_dir=./data --vocab_file=./uncasedBERT/vocab.txt --bert_config_file=./uncasedBERT/bert_config.json --init_checkpoint=./mimicpretraining/out/model.ckpt-140000 --do_lower_case=True --output_dir=./fine_out_5e/checkpoint_140000 --num_train_epochs=2.0;\n",
      "python3 ./bert/bert_ner.py --task_name=NER --do_train=True --do_eval=True --data_dir=./data --vocab_file=./uncasedBERT/vocab.txt --bert_config_file=./uncasedBERT/bert_config.json --init_checkpoint=./mimicpretraining/out/model.ckpt-160000 --do_lower_case=True --output_dir=./fine_out_5e/checkpoint_160000 --num_train_epochs=2.0;\n",
      "python3 ./bert/bert_ner.py --task_name=NER --do_train=True --do_eval=True --data_dir=./data --vocab_file=./uncasedBERT/vocab.txt --bert_config_file=./uncasedBERT/bert_config.json --init_checkpoint=./mimicpretraining/out/model.ckpt-180000 --do_lower_case=True --output_dir=./fine_out_5e/checkpoint_180000 --num_train_epochs=2.0;\n",
      "python3 ./bert/bert_ner.py --task_name=NER --do_train=True --do_eval=True --data_dir=./data --vocab_file=./uncasedBERT/vocab.txt --bert_config_file=./uncasedBERT/bert_config.json --init_checkpoint=./mimicpretraining/out/model.ckpt-200000 --do_lower_case=True --output_dir=./fine_out_5e/checkpoint_200000 --num_train_epochs=2.0;\n",
      "python3 ./bert/bert_ner.py --task_name=NER --do_train=True --do_eval=True --data_dir=./data --vocab_file=./uncasedBERT/vocab.txt --bert_config_file=./uncasedBERT/bert_config.json --init_checkpoint=./mimicpretraining/out/model.ckpt-220000 --do_lower_case=True --output_dir=./fine_out_5e/checkpoint_220000 --num_train_epochs=2.0;\n",
      "python3 ./bert/bert_ner.py --task_name=NER --do_train=True --do_eval=True --data_dir=./data --vocab_file=./uncasedBERT/vocab.txt --bert_config_file=./uncasedBERT/bert_config.json --init_checkpoint=./mimicpretraining/out/model.ckpt-240000 --do_lower_case=True --output_dir=./fine_out_5e/checkpoint_240000 --num_train_epochs=2.0;\n",
      "python3 ./bert/bert_ner.py --task_name=NER --do_train=True --do_eval=True --data_dir=./data --vocab_file=./uncasedBERT/vocab.txt --bert_config_file=./uncasedBERT/bert_config.json --init_checkpoint=./mimicpretraining/out/model.ckpt-260000 --do_lower_case=True --output_dir=./fine_out_5e/checkpoint_260000 --num_train_epochs=2.0;\n",
      "python3 ./bert/bert_ner.py --task_name=NER --do_train=True --do_eval=True --data_dir=./data --vocab_file=./uncasedBERT/vocab.txt --bert_config_file=./uncasedBERT/bert_config.json --init_checkpoint=./mimicpretraining/out/model.ckpt-280000 --do_lower_case=True --output_dir=./fine_out_5e/checkpoint_280000 --num_train_epochs=2.0;\n",
      "python3 ./bert/bert_ner.py --task_name=NER --do_train=True --do_eval=True --data_dir=./data --vocab_file=./uncasedBERT/vocab.txt --bert_config_file=./uncasedBERT/bert_config.json --init_checkpoint=./mimicpretraining/out/model.ckpt-300000 --do_lower_case=True --output_dir=./fine_out_5e/checkpoint_300000 --num_train_epochs=2.0;\n",
      "python3 ./bert/bert_ner.py --task_name=NER --do_train=True --do_eval=True --data_dir=./data --vocab_file=./uncasedBERT/vocab.txt --bert_config_file=./uncasedBERT/bert_config.json --init_checkpoint=./mimicpretraining/out/model.ckpt-320000 --do_lower_case=True --output_dir=./fine_out_5e/checkpoint_320000 --num_train_epochs=2.0;\n",
      "python3 ./bert/bert_ner.py --task_name=NER --do_train=True --do_eval=True --data_dir=./data --vocab_file=./uncasedBERT/vocab.txt --bert_config_file=./uncasedBERT/bert_config.json --init_checkpoint=./mimicpretraining/out/model.ckpt-340000 --do_lower_case=True --output_dir=./fine_out_5e/checkpoint_340000 --num_train_epochs=2.0;\n",
      "python3 ./bert/bert_ner.py --task_name=NER --do_train=True --do_eval=True --data_dir=./data --vocab_file=./uncasedBERT/vocab.txt --bert_config_file=./uncasedBERT/bert_config.json --init_checkpoint=./mimicpretraining/out/model.ckpt-360000 --do_lower_case=True --output_dir=./fine_out_5e/checkpoint_360000 --num_train_epochs=2.0;\n",
      "python3 ./bert/bert_ner.py --task_name=NER --do_train=True --do_eval=True --data_dir=./data --vocab_file=./uncasedBERT/vocab.txt --bert_config_file=./uncasedBERT/bert_config.json --init_checkpoint=./mimicpretraining/out/model.ckpt-380000 --do_lower_case=True --output_dir=./fine_out_5e/checkpoint_380000 --num_train_epochs=2.0;\n",
      "python3 ./bert/bert_ner.py --task_name=NER --do_train=True --do_eval=True --data_dir=./data --vocab_file=./uncasedBERT/vocab.txt --bert_config_file=./uncasedBERT/bert_config.json --init_checkpoint=./mimicpretraining/out/model.ckpt-400000 --do_lower_case=True --output_dir=./fine_out_5e/checkpoint_400000 --num_train_epochs=2.0;\n",
      "python3 ./bert/bert_ner.py --task_name=NER --do_train=True --do_eval=True --data_dir=./data --vocab_file=./uncasedBERT/vocab.txt --bert_config_file=./uncasedBERT/bert_config.json --init_checkpoint=./mimicpretraining/out/model.ckpt-420000 --do_lower_case=True --output_dir=./fine_out_5e/checkpoint_420000 --num_train_epochs=2.0;\n",
      "python3 ./bert/bert_ner.py --task_name=NER --do_train=True --do_eval=True --data_dir=./data --vocab_file=./uncasedBERT/vocab.txt --bert_config_file=./uncasedBERT/bert_config.json --init_checkpoint=./mimicpretraining/out/model.ckpt-440000 --do_lower_case=True --output_dir=./fine_out_5e/checkpoint_440000 --num_train_epochs=2.0;\n",
      "python3 ./bert/bert_ner.py --task_name=NER --do_train=True --do_eval=True --data_dir=./data --vocab_file=./uncasedBERT/vocab.txt --bert_config_file=./uncasedBERT/bert_config.json --init_checkpoint=./mimicpretraining/out/model.ckpt-460000 --do_lower_case=True --output_dir=./fine_out_5e/checkpoint_460000 --num_train_epochs=2.0;\n",
      "python3 ./bert/bert_ner.py --task_name=NER --do_train=True --do_eval=True --data_dir=./data --vocab_file=./uncasedBERT/vocab.txt --bert_config_file=./uncasedBERT/bert_config.json --init_checkpoint=./mimicpretraining/out/model.ckpt-480000 --do_lower_case=True --output_dir=./fine_out_5e/checkpoint_480000 --num_train_epochs=2.0;\n",
      "python3 ./bert/bert_ner.py --task_name=NER --do_train=True --do_eval=True --data_dir=./data --vocab_file=./uncasedBERT/vocab.txt --bert_config_file=./uncasedBERT/bert_config.json --init_checkpoint=./mimicpretraining/out/model.ckpt-500000 --do_lower_case=True --output_dir=./fine_out_5e/checkpoint_500000 --num_train_epochs=2.0;\n",
      "python3 ./bert/bert_ner.py --task_name=NER --do_train=True --do_eval=True --data_dir=./data --vocab_file=./uncasedBERT/vocab.txt --bert_config_file=./uncasedBERT/bert_config.json --init_checkpoint=./mimicpretraining/out/model.ckpt-520000 --do_lower_case=True --output_dir=./fine_out_5e/checkpoint_520000 --num_train_epochs=2.0;\n",
      "python3 ./bert/bert_ner.py --task_name=NER --do_train=True --do_eval=True --data_dir=./data --vocab_file=./uncasedBERT/vocab.txt --bert_config_file=./uncasedBERT/bert_config.json --init_checkpoint=./mimicpretraining/out/model.ckpt-540000 --do_lower_case=True --output_dir=./fine_out_5e/checkpoint_540000 --num_train_epochs=2.0;\n",
      "python3 ./bert/bert_ner.py --task_name=NER --do_train=True --do_eval=True --data_dir=./data --vocab_file=./uncasedBERT/vocab.txt --bert_config_file=./uncasedBERT/bert_config.json --init_checkpoint=./mimicpretraining/out/model.ckpt-560000 --do_lower_case=True --output_dir=./fine_out_5e/checkpoint_560000 --num_train_epochs=2.0;\n",
      "python3 ./bert/bert_ner.py --task_name=NER --do_train=True --do_eval=True --data_dir=./data --vocab_file=./uncasedBERT/vocab.txt --bert_config_file=./uncasedBERT/bert_config.json --init_checkpoint=./mimicpretraining/out/model.ckpt-580000 --do_lower_case=True --output_dir=./fine_out_5e/checkpoint_580000 --num_train_epochs=2.0;\n",
      "python3 ./bert/bert_ner.py --task_name=NER --do_train=True --do_eval=True --data_dir=./data --vocab_file=./uncasedBERT/vocab.txt --bert_config_file=./uncasedBERT/bert_config.json --init_checkpoint=./mimicpretraining/out/model.ckpt-600000 --do_lower_case=True --output_dir=./fine_out_5e/checkpoint_600000 --num_train_epochs=2.0;\n",
      "python3 ./bert/bert_ner.py --task_name=NER --do_train=True --do_eval=True --data_dir=./data --vocab_file=./uncasedBERT/vocab.txt --bert_config_file=./uncasedBERT/bert_config.json --init_checkpoint=./mimicpretraining/out/model.ckpt-620000 --do_lower_case=True --output_dir=./fine_out_5e/checkpoint_620000 --num_train_epochs=2.0;\n",
      "python3 ./bert/bert_ner.py --task_name=NER --do_train=True --do_eval=True --data_dir=./data --vocab_file=./uncasedBERT/vocab.txt --bert_config_file=./uncasedBERT/bert_config.json --init_checkpoint=./mimicpretraining/out/model.ckpt-640000 --do_lower_case=True --output_dir=./fine_out_5e/checkpoint_640000 --num_train_epochs=2.0;\n",
      "python3 ./bert/bert_ner.py --task_name=NER --do_train=True --do_eval=True --data_dir=./data --vocab_file=./uncasedBERT/vocab.txt --bert_config_file=./uncasedBERT/bert_config.json --init_checkpoint=./mimicpretraining/out/model.ckpt-660000 --do_lower_case=True --output_dir=./fine_out_5e/checkpoint_660000 --num_train_epochs=2.0;\n",
      "python3 ./bert/bert_ner.py --task_name=NER --do_train=True --do_eval=True --data_dir=./data --vocab_file=./uncasedBERT/vocab.txt --bert_config_file=./uncasedBERT/bert_config.json --init_checkpoint=./mimicpretraining/out/model.ckpt-680000 --do_lower_case=True --output_dir=./fine_out_5e/checkpoint_680000 --num_train_epochs=2.0;\n",
      "python3 ./bert/bert_ner.py --task_name=NER --do_train=True --do_eval=True --data_dir=./data --vocab_file=./uncasedBERT/vocab.txt --bert_config_file=./uncasedBERT/bert_config.json --init_checkpoint=./mimicpretraining/out/model.ckpt-700000 --do_lower_case=True --output_dir=./fine_out_5e/checkpoint_700000 --num_train_epochs=2.0;\n",
      "python3 ./bert/bert_ner.py --task_name=NER --do_train=True --do_eval=True --data_dir=./data --vocab_file=./uncasedBERT/vocab.txt --bert_config_file=./uncasedBERT/bert_config.json --init_checkpoint=./mimicpretraining/out/model.ckpt-720000 --do_lower_case=True --output_dir=./fine_out_5e/checkpoint_720000 --num_train_epochs=2.0;\n",
      "python3 ./bert/bert_ner.py --task_name=NER --do_train=True --do_eval=True --data_dir=./data --vocab_file=./uncasedBERT/vocab.txt --bert_config_file=./uncasedBERT/bert_config.json --init_checkpoint=./mimicpretraining/out/model.ckpt-740000 --do_lower_case=True --output_dir=./fine_out_5e/checkpoint_740000 --num_train_epochs=2.0;\n",
      "python3 ./bert/bert_ner.py --task_name=NER --do_train=True --do_eval=True --data_dir=./data --vocab_file=./uncasedBERT/vocab.txt --bert_config_file=./uncasedBERT/bert_config.json --init_checkpoint=./mimicpretraining/out/model.ckpt-760000 --do_lower_case=True --output_dir=./fine_out_5e/checkpoint_760000 --num_train_epochs=2.0;\n",
      "python3 ./bert/bert_ner.py --task_name=NER --do_train=True --do_eval=True --data_dir=./data --vocab_file=./uncasedBERT/vocab.txt --bert_config_file=./uncasedBERT/bert_config.json --init_checkpoint=./mimicpretraining/out/model.ckpt-780000 --do_lower_case=True --output_dir=./fine_out_5e/checkpoint_780000 --num_train_epochs=2.0;\n",
      "python3 ./bert/bert_ner.py --task_name=NER --do_train=True --do_eval=True --data_dir=./data --vocab_file=./uncasedBERT/vocab.txt --bert_config_file=./uncasedBERT/bert_config.json --init_checkpoint=./mimicpretraining/out/model.ckpt-800000 --do_lower_case=True --output_dir=./fine_out_5e/checkpoint_800000 --num_train_epochs=2.0;\n"
     ]
    }
   ],
   "source": [
    "for i in range(0,820000,20000):\n",
    "    #print(\"mkdir ./fine_out_5e/checkpoint_\"+str(i)+\";\")\n",
    "    #print(\"python3 ./bert/bert_ner_x.py --task_name=NER --do_train=True --do_eval=True --data_dir=./data --vocab_file=./uncasedBERT/vocab.txt --bert_config_file=./uncasedBERT/bert_config.json --init_checkpoint=./mimicpretraining/out/model.ckpt-\"+str(i)+\" --do_lower_case=True --output_dir=./fine_out_x/checkpoint_\"+str(i)+\";\")\n",
    "    print(\"python3 ./bert/bert_ner.py --task_name=NER --do_train=True --do_eval=True --data_dir=./data --vocab_file=./uncasedBERT/vocab.txt --bert_config_file=./uncasedBERT/bert_config.json --init_checkpoint=./mimicpretraining/out/model.ckpt-\"+str(i)+\" --do_lower_case=True --output_dir=./fine_out_5e/checkpoint_\"+str(i)+\" --num_train_epochs=2.0;\")"
   ]
  },
  {
   "cell_type": "code",
   "execution_count": 26,
   "metadata": {},
   "outputs": [],
   "source": [
    "precision = [1.0,1.5,2.0,2.0]\n",
    "recall = [0.5,1.5,1.5,1.0]\n",
    "f1 = [1,1,1,1]\n",
    "accuracy = [.5,.5,.5,.6]\n",
    "labels = [\"One\",\"Two\",\"three\",\"fours\"]\n"
   ]
  },
  {
   "cell_type": "code",
   "execution_count": 27,
   "metadata": {},
   "outputs": [],
   "source": [
    "df = pd.DataFrame([precision, recall, f1, accuracy, labels] ,index=['precision', 'recall', 'f1', 'accuracy', 'labels'], columns=lables)"
   ]
  },
  {
   "cell_type": "code",
   "execution_count": 28,
   "metadata": {},
   "outputs": [
    {
     "name": "stdout",
     "output_type": "stream",
     "text": [
      "           One  Two  three  fours\n",
      "precision    1  1.5      2      2\n",
      "recall     0.5  1.5    1.5      1\n",
      "f1           1    1      1      1\n",
      "accuracy   0.5  0.5    0.5    0.6\n",
      "labels     One  Two  three  fours\n"
     ]
    }
   ],
   "source": [
    "print(df)"
   ]
  },
  {
   "cell_type": "code",
   "execution_count": 29,
   "metadata": {},
   "outputs": [
    {
     "name": "stdout",
     "output_type": "stream",
     "text": [
      "['One', 'Two', 'three', 'fours']\n"
     ]
    }
   ],
   "source": [
    "print(list(df))"
   ]
  },
  {
   "cell_type": "code",
   "execution_count": 31,
   "metadata": {},
   "outputs": [
    {
     "data": {
      "image/png": "[encoded data removed]",
      "text/plain": [
       "<Figure size 432x288 with 1 Axes>"
      ]
     },
     "metadata": {
      "needs_background": "light"
     },
     "output_type": "display_data"
    }
   ],
   "source": [
    "import matplotlib.pyplot as plt\n",
    "import pandas as pd\n",
    "\n",
    "# gca stands for 'get current axis'\n",
    "ax = plt.gca()\n",
    "df = df.T\n",
    "df.plot(kind='line',x='labels',y='accuracy',color='black',ax=ax)\n",
    "df.plot(kind='line',x='labels',y='precision', color='red', ax=ax)\n",
    "df.plot(kind='line',x='labels',y='recall', color='blue', ax=ax)\n",
    "df.plot(kind='line',x='labels',y='f1', color='green', ax=ax)\n",
    "\n",
    "plt.show()"
   ]
  },
  {
   "cell_type": "code",
   "execution_count": 2,
   "metadata": {},
   "outputs": [
    {
     "name": "stdout",
     "output_type": "stream",
     "text": [
      "mkdir ./fine_out_x_eval/pretraining_checkpoint_0;\n",
      "mkdir ./fine_out_x_eval/pretraining_checkpoint_0/model-0;\n",
      "mkdir ./fine_out_x_eval/pretraining_checkpoint_0/model-1000;\n",
      "mkdir ./fine_out_x_eval/pretraining_checkpoint_0/model-1847;\n",
      "python3 ./bert/bert_ner_x.py --task_name=NER --do_eval=True --data_dir=./data --vocab_file=./uncasedBERT/vocab.txt --bert_config_file=./uncasedBERT/bert_config.json --init_checkpoint=./fine_out_x/checkpoint_0/model.ckpt-0 --do_lower_case=True --output_dir=./fine_out_x_eval/pretraining_checkpoint_0/model-0;\n",
      "python3 ./bert/bert_ner_x.py --task_name=NER --do_eval=True --data_dir=./data --vocab_file=./uncasedBERT/vocab.txt --bert_config_file=./uncasedBERT/bert_config.json --init_checkpoint=./fine_out_x/checkpoint_0/model.ckpt-1000 --do_lower_case=True --output_dir=./fine_out_x_eval/pretraining_checkpoint_0/model-1000;\n",
      "python3 ./bert/bert_ner_x.py --task_name=NER --do_eval=True --data_dir=./data --vocab_file=./uncasedBERT/vocab.txt --bert_config_file=./uncasedBERT/bert_config.json --init_checkpoint=./fine_out_x/checkpoint_0/model.ckpt-1847 --do_lower_case=True --output_dir=./fine_out_x_eval/pretraining_checkpoint_0/model-1847;\n",
      "mkdir ./fine_out_x_eval/pretraining_checkpoint_20000;\n",
      "mkdir ./fine_out_x_eval/pretraining_checkpoint_20000/model-0;\n",
      "mkdir ./fine_out_x_eval/pretraining_checkpoint_20000/model-1000;\n",
      "mkdir ./fine_out_x_eval/pretraining_checkpoint_20000/model-1847;\n",
      "python3 ./bert/bert_ner_x.py --task_name=NER --do_eval=True --data_dir=./data --vocab_file=./uncasedBERT/vocab.txt --bert_config_file=./uncasedBERT/bert_config.json --init_checkpoint=./fine_out_x/checkpoint_20000/model.ckpt-0 --do_lower_case=True --output_dir=./fine_out_x_eval/pretraining_checkpoint_20000/model-0;\n",
      "python3 ./bert/bert_ner_x.py --task_name=NER --do_eval=True --data_dir=./data --vocab_file=./uncasedBERT/vocab.txt --bert_config_file=./uncasedBERT/bert_config.json --init_checkpoint=./fine_out_x/checkpoint_20000/model.ckpt-1000 --do_lower_case=True --output_dir=./fine_out_x_eval/pretraining_checkpoint_20000/model-1000;\n",
      "python3 ./bert/bert_ner_x.py --task_name=NER --do_eval=True --data_dir=./data --vocab_file=./uncasedBERT/vocab.txt --bert_config_file=./uncasedBERT/bert_config.json --init_checkpoint=./fine_out_x/checkpoint_20000/model.ckpt-1847 --do_lower_case=True --output_dir=./fine_out_x_eval/pretraining_checkpoint_20000/model-1847;\n",
      "mkdir ./fine_out_x_eval/pretraining_checkpoint_40000;\n",
      "mkdir ./fine_out_x_eval/pretraining_checkpoint_40000/model-0;\n",
      "mkdir ./fine_out_x_eval/pretraining_checkpoint_40000/model-1000;\n",
      "mkdir ./fine_out_x_eval/pretraining_checkpoint_40000/model-1847;\n",
      "python3 ./bert/bert_ner_x.py --task_name=NER --do_eval=True --data_dir=./data --vocab_file=./uncasedBERT/vocab.txt --bert_config_file=./uncasedBERT/bert_config.json --init_checkpoint=./fine_out_x/checkpoint_40000/model.ckpt-0 --do_lower_case=True --output_dir=./fine_out_x_eval/pretraining_checkpoint_40000/model-0;\n",
      "python3 ./bert/bert_ner_x.py --task_name=NER --do_eval=True --data_dir=./data --vocab_file=./uncasedBERT/vocab.txt --bert_config_file=./uncasedBERT/bert_config.json --init_checkpoint=./fine_out_x/checkpoint_40000/model.ckpt-1000 --do_lower_case=True --output_dir=./fine_out_x_eval/pretraining_checkpoint_40000/model-1000;\n",
      "python3 ./bert/bert_ner_x.py --task_name=NER --do_eval=True --data_dir=./data --vocab_file=./uncasedBERT/vocab.txt --bert_config_file=./uncasedBERT/bert_config.json --init_checkpoint=./fine_out_x/checkpoint_40000/model.ckpt-1847 --do_lower_case=True --output_dir=./fine_out_x_eval/pretraining_checkpoint_40000/model-1847;\n",
      "mkdir ./fine_out_x_eval/pretraining_checkpoint_60000;\n",
      "mkdir ./fine_out_x_eval/pretraining_checkpoint_60000/model-0;\n",
      "mkdir ./fine_out_x_eval/pretraining_checkpoint_60000/model-1000;\n",
      "mkdir ./fine_out_x_eval/pretraining_checkpoint_60000/model-1847;\n",
      "python3 ./bert/bert_ner_x.py --task_name=NER --do_eval=True --data_dir=./data --vocab_file=./uncasedBERT/vocab.txt --bert_config_file=./uncasedBERT/bert_config.json --init_checkpoint=./fine_out_x/checkpoint_60000/model.ckpt-0 --do_lower_case=True --output_dir=./fine_out_x_eval/pretraining_checkpoint_60000/model-0;\n",
      "python3 ./bert/bert_ner_x.py --task_name=NER --do_eval=True --data_dir=./data --vocab_file=./uncasedBERT/vocab.txt --bert_config_file=./uncasedBERT/bert_config.json --init_checkpoint=./fine_out_x/checkpoint_60000/model.ckpt-1000 --do_lower_case=True --output_dir=./fine_out_x_eval/pretraining_checkpoint_60000/model-1000;\n",
      "python3 ./bert/bert_ner_x.py --task_name=NER --do_eval=True --data_dir=./data --vocab_file=./uncasedBERT/vocab.txt --bert_config_file=./uncasedBERT/bert_config.json --init_checkpoint=./fine_out_x/checkpoint_60000/model.ckpt-1847 --do_lower_case=True --output_dir=./fine_out_x_eval/pretraining_checkpoint_60000/model-1847;\n",
      "mkdir ./fine_out_x_eval/pretraining_checkpoint_80000;\n",
      "mkdir ./fine_out_x_eval/pretraining_checkpoint_80000/model-0;\n",
      "mkdir ./fine_out_x_eval/pretraining_checkpoint_80000/model-1000;\n",
      "mkdir ./fine_out_x_eval/pretraining_checkpoint_80000/model-1847;\n",
      "python3 ./bert/bert_ner_x.py --task_name=NER --do_eval=True --data_dir=./data --vocab_file=./uncasedBERT/vocab.txt --bert_config_file=./uncasedBERT/bert_config.json --init_checkpoint=./fine_out_x/checkpoint_80000/model.ckpt-0 --do_lower_case=True --output_dir=./fine_out_x_eval/pretraining_checkpoint_80000/model-0;\n",
      "python3 ./bert/bert_ner_x.py --task_name=NER --do_eval=True --data_dir=./data --vocab_file=./uncasedBERT/vocab.txt --bert_config_file=./uncasedBERT/bert_config.json --init_checkpoint=./fine_out_x/checkpoint_80000/model.ckpt-1000 --do_lower_case=True --output_dir=./fine_out_x_eval/pretraining_checkpoint_80000/model-1000;\n",
      "python3 ./bert/bert_ner_x.py --task_name=NER --do_eval=True --data_dir=./data --vocab_file=./uncasedBERT/vocab.txt --bert_config_file=./uncasedBERT/bert_config.json --init_checkpoint=./fine_out_x/checkpoint_80000/model.ckpt-1847 --do_lower_case=True --output_dir=./fine_out_x_eval/pretraining_checkpoint_80000/model-1847;\n",
      "mkdir ./fine_out_x_eval/pretraining_checkpoint_100000;\n",
      "mkdir ./fine_out_x_eval/pretraining_checkpoint_100000/model-0;\n",
      "mkdir ./fine_out_x_eval/pretraining_checkpoint_100000/model-1000;\n",
      "mkdir ./fine_out_x_eval/pretraining_checkpoint_100000/model-1847;\n",
      "python3 ./bert/bert_ner_x.py --task_name=NER --do_eval=True --data_dir=./data --vocab_file=./uncasedBERT/vocab.txt --bert_config_file=./uncasedBERT/bert_config.json --init_checkpoint=./fine_out_x/checkpoint_100000/model.ckpt-0 --do_lower_case=True --output_dir=./fine_out_x_eval/pretraining_checkpoint_100000/model-0;\n",
      "python3 ./bert/bert_ner_x.py --task_name=NER --do_eval=True --data_dir=./data --vocab_file=./uncasedBERT/vocab.txt --bert_config_file=./uncasedBERT/bert_config.json --init_checkpoint=./fine_out_x/checkpoint_100000/model.ckpt-1000 --do_lower_case=True --output_dir=./fine_out_x_eval/pretraining_checkpoint_100000/model-1000;\n",
      "python3 ./bert/bert_ner_x.py --task_name=NER --do_eval=True --data_dir=./data --vocab_file=./uncasedBERT/vocab.txt --bert_config_file=./uncasedBERT/bert_config.json --init_checkpoint=./fine_out_x/checkpoint_100000/model.ckpt-1847 --do_lower_case=True --output_dir=./fine_out_x_eval/pretraining_checkpoint_100000/model-1847;\n",
      "mkdir ./fine_out_x_eval/pretraining_checkpoint_120000;\n",
      "mkdir ./fine_out_x_eval/pretraining_checkpoint_120000/model-0;\n",
      "mkdir ./fine_out_x_eval/pretraining_checkpoint_120000/model-1000;\n",
      "mkdir ./fine_out_x_eval/pretraining_checkpoint_120000/model-1847;\n",
      "python3 ./bert/bert_ner_x.py --task_name=NER --do_eval=True --data_dir=./data --vocab_file=./uncasedBERT/vocab.txt --bert_config_file=./uncasedBERT/bert_config.json --init_checkpoint=./fine_out_x/checkpoint_120000/model.ckpt-0 --do_lower_case=True --output_dir=./fine_out_x_eval/pretraining_checkpoint_120000/model-0;\n",
      "python3 ./bert/bert_ner_x.py --task_name=NER --do_eval=True --data_dir=./data --vocab_file=./uncasedBERT/vocab.txt --bert_config_file=./uncasedBERT/bert_config.json --init_checkpoint=./fine_out_x/checkpoint_120000/model.ckpt-1000 --do_lower_case=True --output_dir=./fine_out_x_eval/pretraining_checkpoint_120000/model-1000;\n",
      "python3 ./bert/bert_ner_x.py --task_name=NER --do_eval=True --data_dir=./data --vocab_file=./uncasedBERT/vocab.txt --bert_config_file=./uncasedBERT/bert_config.json --init_checkpoint=./fine_out_x/checkpoint_120000/model.ckpt-1847 --do_lower_case=True --output_dir=./fine_out_x_eval/pretraining_checkpoint_120000/model-1847;\n",
      "mkdir ./fine_out_x_eval/pretraining_checkpoint_140000;\n",
      "mkdir ./fine_out_x_eval/pretraining_checkpoint_140000/model-0;\n",
      "mkdir ./fine_out_x_eval/pretraining_checkpoint_140000/model-1000;\n",
      "mkdir ./fine_out_x_eval/pretraining_checkpoint_140000/model-1847;\n",
      "python3 ./bert/bert_ner_x.py --task_name=NER --do_eval=True --data_dir=./data --vocab_file=./uncasedBERT/vocab.txt --bert_config_file=./uncasedBERT/bert_config.json --init_checkpoint=./fine_out_x/checkpoint_140000/model.ckpt-0 --do_lower_case=True --output_dir=./fine_out_x_eval/pretraining_checkpoint_140000/model-0;\n",
      "python3 ./bert/bert_ner_x.py --task_name=NER --do_eval=True --data_dir=./data --vocab_file=./uncasedBERT/vocab.txt --bert_config_file=./uncasedBERT/bert_config.json --init_checkpoint=./fine_out_x/checkpoint_140000/model.ckpt-1000 --do_lower_case=True --output_dir=./fine_out_x_eval/pretraining_checkpoint_140000/model-1000;\n",
      "python3 ./bert/bert_ner_x.py --task_name=NER --do_eval=True --data_dir=./data --vocab_file=./uncasedBERT/vocab.txt --bert_config_file=./uncasedBERT/bert_config.json --init_checkpoint=./fine_out_x/checkpoint_140000/model.ckpt-1847 --do_lower_case=True --output_dir=./fine_out_x_eval/pretraining_checkpoint_140000/model-1847;\n",
      "mkdir ./fine_out_x_eval/pretraining_checkpoint_160000;\n",
      "mkdir ./fine_out_x_eval/pretraining_checkpoint_160000/model-0;\n",
      "mkdir ./fine_out_x_eval/pretraining_checkpoint_160000/model-1000;\n",
      "mkdir ./fine_out_x_eval/pretraining_checkpoint_160000/model-1847;\n",
      "python3 ./bert/bert_ner_x.py --task_name=NER --do_eval=True --data_dir=./data --vocab_file=./uncasedBERT/vocab.txt --bert_config_file=./uncasedBERT/bert_config.json --init_checkpoint=./fine_out_x/checkpoint_160000/model.ckpt-0 --do_lower_case=True --output_dir=./fine_out_x_eval/pretraining_checkpoint_160000/model-0;\n",
      "python3 ./bert/bert_ner_x.py --task_name=NER --do_eval=True --data_dir=./data --vocab_file=./uncasedBERT/vocab.txt --bert_config_file=./uncasedBERT/bert_config.json --init_checkpoint=./fine_out_x/checkpoint_160000/model.ckpt-1000 --do_lower_case=True --output_dir=./fine_out_x_eval/pretraining_checkpoint_160000/model-1000;\n",
      "python3 ./bert/bert_ner_x.py --task_name=NER --do_eval=True --data_dir=./data --vocab_file=./uncasedBERT/vocab.txt --bert_config_file=./uncasedBERT/bert_config.json --init_checkpoint=./fine_out_x/checkpoint_160000/model.ckpt-1847 --do_lower_case=True --output_dir=./fine_out_x_eval/pretraining_checkpoint_160000/model-1847;\n",
      "mkdir ./fine_out_x_eval/pretraining_checkpoint_180000;\n",
      "mkdir ./fine_out_x_eval/pretraining_checkpoint_180000/model-0;\n",
      "mkdir ./fine_out_x_eval/pretraining_checkpoint_180000/model-1000;\n",
      "mkdir ./fine_out_x_eval/pretraining_checkpoint_180000/model-1847;\n",
      "python3 ./bert/bert_ner_x.py --task_name=NER --do_eval=True --data_dir=./data --vocab_file=./uncasedBERT/vocab.txt --bert_config_file=./uncasedBERT/bert_config.json --init_checkpoint=./fine_out_x/checkpoint_180000/model.ckpt-0 --do_lower_case=True --output_dir=./fine_out_x_eval/pretraining_checkpoint_180000/model-0;\n",
      "python3 ./bert/bert_ner_x.py --task_name=NER --do_eval=True --data_dir=./data --vocab_file=./uncasedBERT/vocab.txt --bert_config_file=./uncasedBERT/bert_config.json --init_checkpoint=./fine_out_x/checkpoint_180000/model.ckpt-1000 --do_lower_case=True --output_dir=./fine_out_x_eval/pretraining_checkpoint_180000/model-1000;\n",
      "python3 ./bert/bert_ner_x.py --task_name=NER --do_eval=True --data_dir=./data --vocab_file=./uncasedBERT/vocab.txt --bert_config_file=./uncasedBERT/bert_config.json --init_checkpoint=./fine_out_x/checkpoint_180000/model.ckpt-1847 --do_lower_case=True --output_dir=./fine_out_x_eval/pretraining_checkpoint_180000/model-1847;\n",
      "mkdir ./fine_out_x_eval/pretraining_checkpoint_200000;\n",
      "mkdir ./fine_out_x_eval/pretraining_checkpoint_200000/model-0;\n",
      "mkdir ./fine_out_x_eval/pretraining_checkpoint_200000/model-1000;\n",
      "mkdir ./fine_out_x_eval/pretraining_checkpoint_200000/model-1847;\n",
      "python3 ./bert/bert_ner_x.py --task_name=NER --do_eval=True --data_dir=./data --vocab_file=./uncasedBERT/vocab.txt --bert_config_file=./uncasedBERT/bert_config.json --init_checkpoint=./fine_out_x/checkpoint_200000/model.ckpt-0 --do_lower_case=True --output_dir=./fine_out_x_eval/pretraining_checkpoint_200000/model-0;\n",
      "python3 ./bert/bert_ner_x.py --task_name=NER --do_eval=True --data_dir=./data --vocab_file=./uncasedBERT/vocab.txt --bert_config_file=./uncasedBERT/bert_config.json --init_checkpoint=./fine_out_x/checkpoint_200000/model.ckpt-1000 --do_lower_case=True --output_dir=./fine_out_x_eval/pretraining_checkpoint_200000/model-1000;\n",
      "python3 ./bert/bert_ner_x.py --task_name=NER --do_eval=True --data_dir=./data --vocab_file=./uncasedBERT/vocab.txt --bert_config_file=./uncasedBERT/bert_config.json --init_checkpoint=./fine_out_x/checkpoint_200000/model.ckpt-1847 --do_lower_case=True --output_dir=./fine_out_x_eval/pretraining_checkpoint_200000/model-1847;\n",
      "mkdir ./fine_out_x_eval/pretraining_checkpoint_220000;\n",
      "mkdir ./fine_out_x_eval/pretraining_checkpoint_220000/model-0;\n",
      "mkdir ./fine_out_x_eval/pretraining_checkpoint_220000/model-1000;\n",
      "mkdir ./fine_out_x_eval/pretraining_checkpoint_220000/model-1847;\n",
      "python3 ./bert/bert_ner_x.py --task_name=NER --do_eval=True --data_dir=./data --vocab_file=./uncasedBERT/vocab.txt --bert_config_file=./uncasedBERT/bert_config.json --init_checkpoint=./fine_out_x/checkpoint_220000/model.ckpt-0 --do_lower_case=True --output_dir=./fine_out_x_eval/pretraining_checkpoint_220000/model-0;\n",
      "python3 ./bert/bert_ner_x.py --task_name=NER --do_eval=True --data_dir=./data --vocab_file=./uncasedBERT/vocab.txt --bert_config_file=./uncasedBERT/bert_config.json --init_checkpoint=./fine_out_x/checkpoint_220000/model.ckpt-1000 --do_lower_case=True --output_dir=./fine_out_x_eval/pretraining_checkpoint_220000/model-1000;\n",
      "python3 ./bert/bert_ner_x.py --task_name=NER --do_eval=True --data_dir=./data --vocab_file=./uncasedBERT/vocab.txt --bert_config_file=./uncasedBERT/bert_config.json --init_checkpoint=./fine_out_x/checkpoint_220000/model.ckpt-1847 --do_lower_case=True --output_dir=./fine_out_x_eval/pretraining_checkpoint_220000/model-1847;\n",
      "mkdir ./fine_out_x_eval/pretraining_checkpoint_240000;\n",
      "mkdir ./fine_out_x_eval/pretraining_checkpoint_240000/model-0;\n",
      "mkdir ./fine_out_x_eval/pretraining_checkpoint_240000/model-1000;\n",
      "mkdir ./fine_out_x_eval/pretraining_checkpoint_240000/model-1847;\n",
      "python3 ./bert/bert_ner_x.py --task_name=NER --do_eval=True --data_dir=./data --vocab_file=./uncasedBERT/vocab.txt --bert_config_file=./uncasedBERT/bert_config.json --init_checkpoint=./fine_out_x/checkpoint_240000/model.ckpt-0 --do_lower_case=True --output_dir=./fine_out_x_eval/pretraining_checkpoint_240000/model-0;\n",
      "python3 ./bert/bert_ner_x.py --task_name=NER --do_eval=True --data_dir=./data --vocab_file=./uncasedBERT/vocab.txt --bert_config_file=./uncasedBERT/bert_config.json --init_checkpoint=./fine_out_x/checkpoint_240000/model.ckpt-1000 --do_lower_case=True --output_dir=./fine_out_x_eval/pretraining_checkpoint_240000/model-1000;\n",
      "python3 ./bert/bert_ner_x.py --task_name=NER --do_eval=True --data_dir=./data --vocab_file=./uncasedBERT/vocab.txt --bert_config_file=./uncasedBERT/bert_config.json --init_checkpoint=./fine_out_x/checkpoint_240000/model.ckpt-1847 --do_lower_case=True --output_dir=./fine_out_x_eval/pretraining_checkpoint_240000/model-1847;\n",
      "mkdir ./fine_out_x_eval/pretraining_checkpoint_260000;\n",
      "mkdir ./fine_out_x_eval/pretraining_checkpoint_260000/model-0;\n",
      "mkdir ./fine_out_x_eval/pretraining_checkpoint_260000/model-1000;\n",
      "mkdir ./fine_out_x_eval/pretraining_checkpoint_260000/model-1847;\n",
      "python3 ./bert/bert_ner_x.py --task_name=NER --do_eval=True --data_dir=./data --vocab_file=./uncasedBERT/vocab.txt --bert_config_file=./uncasedBERT/bert_config.json --init_checkpoint=./fine_out_x/checkpoint_260000/model.ckpt-0 --do_lower_case=True --output_dir=./fine_out_x_eval/pretraining_checkpoint_260000/model-0;\n",
      "python3 ./bert/bert_ner_x.py --task_name=NER --do_eval=True --data_dir=./data --vocab_file=./uncasedBERT/vocab.txt --bert_config_file=./uncasedBERT/bert_config.json --init_checkpoint=./fine_out_x/checkpoint_260000/model.ckpt-1000 --do_lower_case=True --output_dir=./fine_out_x_eval/pretraining_checkpoint_260000/model-1000;\n",
      "python3 ./bert/bert_ner_x.py --task_name=NER --do_eval=True --data_dir=./data --vocab_file=./uncasedBERT/vocab.txt --bert_config_file=./uncasedBERT/bert_config.json --init_checkpoint=./fine_out_x/checkpoint_260000/model.ckpt-1847 --do_lower_case=True --output_dir=./fine_out_x_eval/pretraining_checkpoint_260000/model-1847;\n",
      "mkdir ./fine_out_x_eval/pretraining_checkpoint_280000;\n",
      "mkdir ./fine_out_x_eval/pretraining_checkpoint_280000/model-0;\n",
      "mkdir ./fine_out_x_eval/pretraining_checkpoint_280000/model-1000;\n",
      "mkdir ./fine_out_x_eval/pretraining_checkpoint_280000/model-1847;\n",
      "python3 ./bert/bert_ner_x.py --task_name=NER --do_eval=True --data_dir=./data --vocab_file=./uncasedBERT/vocab.txt --bert_config_file=./uncasedBERT/bert_config.json --init_checkpoint=./fine_out_x/checkpoint_280000/model.ckpt-0 --do_lower_case=True --output_dir=./fine_out_x_eval/pretraining_checkpoint_280000/model-0;\n",
      "python3 ./bert/bert_ner_x.py --task_name=NER --do_eval=True --data_dir=./data --vocab_file=./uncasedBERT/vocab.txt --bert_config_file=./uncasedBERT/bert_config.json --init_checkpoint=./fine_out_x/checkpoint_280000/model.ckpt-1000 --do_lower_case=True --output_dir=./fine_out_x_eval/pretraining_checkpoint_280000/model-1000;\n",
      "python3 ./bert/bert_ner_x.py --task_name=NER --do_eval=True --data_dir=./data --vocab_file=./uncasedBERT/vocab.txt --bert_config_file=./uncasedBERT/bert_config.json --init_checkpoint=./fine_out_x/checkpoint_280000/model.ckpt-1847 --do_lower_case=True --output_dir=./fine_out_x_eval/pretraining_checkpoint_280000/model-1847;\n",
      "mkdir ./fine_out_x_eval/pretraining_checkpoint_300000;\n",
      "mkdir ./fine_out_x_eval/pretraining_checkpoint_300000/model-0;\n",
      "mkdir ./fine_out_x_eval/pretraining_checkpoint_300000/model-1000;\n",
      "mkdir ./fine_out_x_eval/pretraining_checkpoint_300000/model-1847;\n",
      "python3 ./bert/bert_ner_x.py --task_name=NER --do_eval=True --data_dir=./data --vocab_file=./uncasedBERT/vocab.txt --bert_config_file=./uncasedBERT/bert_config.json --init_checkpoint=./fine_out_x/checkpoint_300000/model.ckpt-0 --do_lower_case=True --output_dir=./fine_out_x_eval/pretraining_checkpoint_300000/model-0;\n",
      "python3 ./bert/bert_ner_x.py --task_name=NER --do_eval=True --data_dir=./data --vocab_file=./uncasedBERT/vocab.txt --bert_config_file=./uncasedBERT/bert_config.json --init_checkpoint=./fine_out_x/checkpoint_300000/model.ckpt-1000 --do_lower_case=True --output_dir=./fine_out_x_eval/pretraining_checkpoint_300000/model-1000;\n",
      "python3 ./bert/bert_ner_x.py --task_name=NER --do_eval=True --data_dir=./data --vocab_file=./uncasedBERT/vocab.txt --bert_config_file=./uncasedBERT/bert_config.json --init_checkpoint=./fine_out_x/checkpoint_300000/model.ckpt-1847 --do_lower_case=True --output_dir=./fine_out_x_eval/pretraining_checkpoint_300000/model-1847;\n",
      "mkdir ./fine_out_x_eval/pretraining_checkpoint_320000;\n",
      "mkdir ./fine_out_x_eval/pretraining_checkpoint_320000/model-0;\n",
      "mkdir ./fine_out_x_eval/pretraining_checkpoint_320000/model-1000;\n",
      "mkdir ./fine_out_x_eval/pretraining_checkpoint_320000/model-1847;\n",
      "python3 ./bert/bert_ner_x.py --task_name=NER --do_eval=True --data_dir=./data --vocab_file=./uncasedBERT/vocab.txt --bert_config_file=./uncasedBERT/bert_config.json --init_checkpoint=./fine_out_x/checkpoint_320000/model.ckpt-0 --do_lower_case=True --output_dir=./fine_out_x_eval/pretraining_checkpoint_320000/model-0;\n",
      "python3 ./bert/bert_ner_x.py --task_name=NER --do_eval=True --data_dir=./data --vocab_file=./uncasedBERT/vocab.txt --bert_config_file=./uncasedBERT/bert_config.json --init_checkpoint=./fine_out_x/checkpoint_320000/model.ckpt-1000 --do_lower_case=True --output_dir=./fine_out_x_eval/pretraining_checkpoint_320000/model-1000;\n",
      "python3 ./bert/bert_ner_x.py --task_name=NER --do_eval=True --data_dir=./data --vocab_file=./uncasedBERT/vocab.txt --bert_config_file=./uncasedBERT/bert_config.json --init_checkpoint=./fine_out_x/checkpoint_320000/model.ckpt-1847 --do_lower_case=True --output_dir=./fine_out_x_eval/pretraining_checkpoint_320000/model-1847;\n",
      "mkdir ./fine_out_x_eval/pretraining_checkpoint_340000;\n",
      "mkdir ./fine_out_x_eval/pretraining_checkpoint_340000/model-0;\n",
      "mkdir ./fine_out_x_eval/pretraining_checkpoint_340000/model-1000;\n",
      "mkdir ./fine_out_x_eval/pretraining_checkpoint_340000/model-1847;\n",
      "python3 ./bert/bert_ner_x.py --task_name=NER --do_eval=True --data_dir=./data --vocab_file=./uncasedBERT/vocab.txt --bert_config_file=./uncasedBERT/bert_config.json --init_checkpoint=./fine_out_x/checkpoint_340000/model.ckpt-0 --do_lower_case=True --output_dir=./fine_out_x_eval/pretraining_checkpoint_340000/model-0;\n",
      "python3 ./bert/bert_ner_x.py --task_name=NER --do_eval=True --data_dir=./data --vocab_file=./uncasedBERT/vocab.txt --bert_config_file=./uncasedBERT/bert_config.json --init_checkpoint=./fine_out_x/checkpoint_340000/model.ckpt-1000 --do_lower_case=True --output_dir=./fine_out_x_eval/pretraining_checkpoint_340000/model-1000;\n",
      "python3 ./bert/bert_ner_x.py --task_name=NER --do_eval=True --data_dir=./data --vocab_file=./uncasedBERT/vocab.txt --bert_config_file=./uncasedBERT/bert_config.json --init_checkpoint=./fine_out_x/checkpoint_340000/model.ckpt-1847 --do_lower_case=True --output_dir=./fine_out_x_eval/pretraining_checkpoint_340000/model-1847;\n",
      "mkdir ./fine_out_x_eval/pretraining_checkpoint_360000;\n",
      "mkdir ./fine_out_x_eval/pretraining_checkpoint_360000/model-0;\n",
      "mkdir ./fine_out_x_eval/pretraining_checkpoint_360000/model-1000;\n",
      "mkdir ./fine_out_x_eval/pretraining_checkpoint_360000/model-1847;\n",
      "python3 ./bert/bert_ner_x.py --task_name=NER --do_eval=True --data_dir=./data --vocab_file=./uncasedBERT/vocab.txt --bert_config_file=./uncasedBERT/bert_config.json --init_checkpoint=./fine_out_x/checkpoint_360000/model.ckpt-0 --do_lower_case=True --output_dir=./fine_out_x_eval/pretraining_checkpoint_360000/model-0;\n",
      "python3 ./bert/bert_ner_x.py --task_name=NER --do_eval=True --data_dir=./data --vocab_file=./uncasedBERT/vocab.txt --bert_config_file=./uncasedBERT/bert_config.json --init_checkpoint=./fine_out_x/checkpoint_360000/model.ckpt-1000 --do_lower_case=True --output_dir=./fine_out_x_eval/pretraining_checkpoint_360000/model-1000;\n",
      "python3 ./bert/bert_ner_x.py --task_name=NER --do_eval=True --data_dir=./data --vocab_file=./uncasedBERT/vocab.txt --bert_config_file=./uncasedBERT/bert_config.json --init_checkpoint=./fine_out_x/checkpoint_360000/model.ckpt-1847 --do_lower_case=True --output_dir=./fine_out_x_eval/pretraining_checkpoint_360000/model-1847;\n",
      "mkdir ./fine_out_x_eval/pretraining_checkpoint_380000;\n",
      "mkdir ./fine_out_x_eval/pretraining_checkpoint_380000/model-0;\n",
      "mkdir ./fine_out_x_eval/pretraining_checkpoint_380000/model-1000;\n",
      "mkdir ./fine_out_x_eval/pretraining_checkpoint_380000/model-1847;\n",
      "python3 ./bert/bert_ner_x.py --task_name=NER --do_eval=True --data_dir=./data --vocab_file=./uncasedBERT/vocab.txt --bert_config_file=./uncasedBERT/bert_config.json --init_checkpoint=./fine_out_x/checkpoint_380000/model.ckpt-0 --do_lower_case=True --output_dir=./fine_out_x_eval/pretraining_checkpoint_380000/model-0;\n",
      "python3 ./bert/bert_ner_x.py --task_name=NER --do_eval=True --data_dir=./data --vocab_file=./uncasedBERT/vocab.txt --bert_config_file=./uncasedBERT/bert_config.json --init_checkpoint=./fine_out_x/checkpoint_380000/model.ckpt-1000 --do_lower_case=True --output_dir=./fine_out_x_eval/pretraining_checkpoint_380000/model-1000;\n",
      "python3 ./bert/bert_ner_x.py --task_name=NER --do_eval=True --data_dir=./data --vocab_file=./uncasedBERT/vocab.txt --bert_config_file=./uncasedBERT/bert_config.json --init_checkpoint=./fine_out_x/checkpoint_380000/model.ckpt-1847 --do_lower_case=True --output_dir=./fine_out_x_eval/pretraining_checkpoint_380000/model-1847;\n",
      "mkdir ./fine_out_x_eval/pretraining_checkpoint_400000;\n",
      "mkdir ./fine_out_x_eval/pretraining_checkpoint_400000/model-0;\n",
      "mkdir ./fine_out_x_eval/pretraining_checkpoint_400000/model-1000;\n",
      "mkdir ./fine_out_x_eval/pretraining_checkpoint_400000/model-1847;\n",
      "python3 ./bert/bert_ner_x.py --task_name=NER --do_eval=True --data_dir=./data --vocab_file=./uncasedBERT/vocab.txt --bert_config_file=./uncasedBERT/bert_config.json --init_checkpoint=./fine_out_x/checkpoint_400000/model.ckpt-0 --do_lower_case=True --output_dir=./fine_out_x_eval/pretraining_checkpoint_400000/model-0;\n",
      "python3 ./bert/bert_ner_x.py --task_name=NER --do_eval=True --data_dir=./data --vocab_file=./uncasedBERT/vocab.txt --bert_config_file=./uncasedBERT/bert_config.json --init_checkpoint=./fine_out_x/checkpoint_400000/model.ckpt-1000 --do_lower_case=True --output_dir=./fine_out_x_eval/pretraining_checkpoint_400000/model-1000;\n",
      "python3 ./bert/bert_ner_x.py --task_name=NER --do_eval=True --data_dir=./data --vocab_file=./uncasedBERT/vocab.txt --bert_config_file=./uncasedBERT/bert_config.json --init_checkpoint=./fine_out_x/checkpoint_400000/model.ckpt-1847 --do_lower_case=True --output_dir=./fine_out_x_eval/pretraining_checkpoint_400000/model-1847;\n",
      "mkdir ./fine_out_x_eval/pretraining_checkpoint_420000;\n",
      "mkdir ./fine_out_x_eval/pretraining_checkpoint_420000/model-0;\n",
      "mkdir ./fine_out_x_eval/pretraining_checkpoint_420000/model-1000;\n",
      "mkdir ./fine_out_x_eval/pretraining_checkpoint_420000/model-1847;\n",
      "python3 ./bert/bert_ner_x.py --task_name=NER --do_eval=True --data_dir=./data --vocab_file=./uncasedBERT/vocab.txt --bert_config_file=./uncasedBERT/bert_config.json --init_checkpoint=./fine_out_x/checkpoint_420000/model.ckpt-0 --do_lower_case=True --output_dir=./fine_out_x_eval/pretraining_checkpoint_420000/model-0;\n",
      "python3 ./bert/bert_ner_x.py --task_name=NER --do_eval=True --data_dir=./data --vocab_file=./uncasedBERT/vocab.txt --bert_config_file=./uncasedBERT/bert_config.json --init_checkpoint=./fine_out_x/checkpoint_420000/model.ckpt-1000 --do_lower_case=True --output_dir=./fine_out_x_eval/pretraining_checkpoint_420000/model-1000;\n",
      "python3 ./bert/bert_ner_x.py --task_name=NER --do_eval=True --data_dir=./data --vocab_file=./uncasedBERT/vocab.txt --bert_config_file=./uncasedBERT/bert_config.json --init_checkpoint=./fine_out_x/checkpoint_420000/model.ckpt-1847 --do_lower_case=True --output_dir=./fine_out_x_eval/pretraining_checkpoint_420000/model-1847;\n",
      "mkdir ./fine_out_x_eval/pretraining_checkpoint_440000;\n",
      "mkdir ./fine_out_x_eval/pretraining_checkpoint_440000/model-0;\n",
      "mkdir ./fine_out_x_eval/pretraining_checkpoint_440000/model-1000;\n",
      "mkdir ./fine_out_x_eval/pretraining_checkpoint_440000/model-1847;\n",
      "python3 ./bert/bert_ner_x.py --task_name=NER --do_eval=True --data_dir=./data --vocab_file=./uncasedBERT/vocab.txt --bert_config_file=./uncasedBERT/bert_config.json --init_checkpoint=./fine_out_x/checkpoint_440000/model.ckpt-0 --do_lower_case=True --output_dir=./fine_out_x_eval/pretraining_checkpoint_440000/model-0;\n",
      "python3 ./bert/bert_ner_x.py --task_name=NER --do_eval=True --data_dir=./data --vocab_file=./uncasedBERT/vocab.txt --bert_config_file=./uncasedBERT/bert_config.json --init_checkpoint=./fine_out_x/checkpoint_440000/model.ckpt-1000 --do_lower_case=True --output_dir=./fine_out_x_eval/pretraining_checkpoint_440000/model-1000;\n",
      "python3 ./bert/bert_ner_x.py --task_name=NER --do_eval=True --data_dir=./data --vocab_file=./uncasedBERT/vocab.txt --bert_config_file=./uncasedBERT/bert_config.json --init_checkpoint=./fine_out_x/checkpoint_440000/model.ckpt-1847 --do_lower_case=True --output_dir=./fine_out_x_eval/pretraining_checkpoint_440000/model-1847;\n",
      "mkdir ./fine_out_x_eval/pretraining_checkpoint_460000;\n",
      "mkdir ./fine_out_x_eval/pretraining_checkpoint_460000/model-0;\n",
      "mkdir ./fine_out_x_eval/pretraining_checkpoint_460000/model-1000;\n",
      "mkdir ./fine_out_x_eval/pretraining_checkpoint_460000/model-1847;\n",
      "python3 ./bert/bert_ner_x.py --task_name=NER --do_eval=True --data_dir=./data --vocab_file=./uncasedBERT/vocab.txt --bert_config_file=./uncasedBERT/bert_config.json --init_checkpoint=./fine_out_x/checkpoint_460000/model.ckpt-0 --do_lower_case=True --output_dir=./fine_out_x_eval/pretraining_checkpoint_460000/model-0;\n",
      "python3 ./bert/bert_ner_x.py --task_name=NER --do_eval=True --data_dir=./data --vocab_file=./uncasedBERT/vocab.txt --bert_config_file=./uncasedBERT/bert_config.json --init_checkpoint=./fine_out_x/checkpoint_460000/model.ckpt-1000 --do_lower_case=True --output_dir=./fine_out_x_eval/pretraining_checkpoint_460000/model-1000;\n",
      "python3 ./bert/bert_ner_x.py --task_name=NER --do_eval=True --data_dir=./data --vocab_file=./uncasedBERT/vocab.txt --bert_config_file=./uncasedBERT/bert_config.json --init_checkpoint=./fine_out_x/checkpoint_460000/model.ckpt-1847 --do_lower_case=True --output_dir=./fine_out_x_eval/pretraining_checkpoint_460000/model-1847;\n",
      "mkdir ./fine_out_x_eval/pretraining_checkpoint_480000;\n",
      "mkdir ./fine_out_x_eval/pretraining_checkpoint_480000/model-0;\n",
      "mkdir ./fine_out_x_eval/pretraining_checkpoint_480000/model-1000;\n",
      "mkdir ./fine_out_x_eval/pretraining_checkpoint_480000/model-1847;\n",
      "python3 ./bert/bert_ner_x.py --task_name=NER --do_eval=True --data_dir=./data --vocab_file=./uncasedBERT/vocab.txt --bert_config_file=./uncasedBERT/bert_config.json --init_checkpoint=./fine_out_x/checkpoint_480000/model.ckpt-0 --do_lower_case=True --output_dir=./fine_out_x_eval/pretraining_checkpoint_480000/model-0;\n",
      "python3 ./bert/bert_ner_x.py --task_name=NER --do_eval=True --data_dir=./data --vocab_file=./uncasedBERT/vocab.txt --bert_config_file=./uncasedBERT/bert_config.json --init_checkpoint=./fine_out_x/checkpoint_480000/model.ckpt-1000 --do_lower_case=True --output_dir=./fine_out_x_eval/pretraining_checkpoint_480000/model-1000;\n",
      "python3 ./bert/bert_ner_x.py --task_name=NER --do_eval=True --data_dir=./data --vocab_file=./uncasedBERT/vocab.txt --bert_config_file=./uncasedBERT/bert_config.json --init_checkpoint=./fine_out_x/checkpoint_480000/model.ckpt-1847 --do_lower_case=True --output_dir=./fine_out_x_eval/pretraining_checkpoint_480000/model-1847;\n",
      "mkdir ./fine_out_x_eval/pretraining_checkpoint_500000;\n",
      "mkdir ./fine_out_x_eval/pretraining_checkpoint_500000/model-0;\n",
      "mkdir ./fine_out_x_eval/pretraining_checkpoint_500000/model-1000;\n",
      "mkdir ./fine_out_x_eval/pretraining_checkpoint_500000/model-1847;\n",
      "python3 ./bert/bert_ner_x.py --task_name=NER --do_eval=True --data_dir=./data --vocab_file=./uncasedBERT/vocab.txt --bert_config_file=./uncasedBERT/bert_config.json --init_checkpoint=./fine_out_x/checkpoint_500000/model.ckpt-0 --do_lower_case=True --output_dir=./fine_out_x_eval/pretraining_checkpoint_500000/model-0;\n",
      "python3 ./bert/bert_ner_x.py --task_name=NER --do_eval=True --data_dir=./data --vocab_file=./uncasedBERT/vocab.txt --bert_config_file=./uncasedBERT/bert_config.json --init_checkpoint=./fine_out_x/checkpoint_500000/model.ckpt-1000 --do_lower_case=True --output_dir=./fine_out_x_eval/pretraining_checkpoint_500000/model-1000;\n",
      "python3 ./bert/bert_ner_x.py --task_name=NER --do_eval=True --data_dir=./data --vocab_file=./uncasedBERT/vocab.txt --bert_config_file=./uncasedBERT/bert_config.json --init_checkpoint=./fine_out_x/checkpoint_500000/model.ckpt-1847 --do_lower_case=True --output_dir=./fine_out_x_eval/pretraining_checkpoint_500000/model-1847;\n",
      "mkdir ./fine_out_x_eval/pretraining_checkpoint_520000;\n",
      "mkdir ./fine_out_x_eval/pretraining_checkpoint_520000/model-0;\n",
      "mkdir ./fine_out_x_eval/pretraining_checkpoint_520000/model-1000;\n",
      "mkdir ./fine_out_x_eval/pretraining_checkpoint_520000/model-1847;\n",
      "python3 ./bert/bert_ner_x.py --task_name=NER --do_eval=True --data_dir=./data --vocab_file=./uncasedBERT/vocab.txt --bert_config_file=./uncasedBERT/bert_config.json --init_checkpoint=./fine_out_x/checkpoint_520000/model.ckpt-0 --do_lower_case=True --output_dir=./fine_out_x_eval/pretraining_checkpoint_520000/model-0;\n",
      "python3 ./bert/bert_ner_x.py --task_name=NER --do_eval=True --data_dir=./data --vocab_file=./uncasedBERT/vocab.txt --bert_config_file=./uncasedBERT/bert_config.json --init_checkpoint=./fine_out_x/checkpoint_520000/model.ckpt-1000 --do_lower_case=True --output_dir=./fine_out_x_eval/pretraining_checkpoint_520000/model-1000;\n",
      "python3 ./bert/bert_ner_x.py --task_name=NER --do_eval=True --data_dir=./data --vocab_file=./uncasedBERT/vocab.txt --bert_config_file=./uncasedBERT/bert_config.json --init_checkpoint=./fine_out_x/checkpoint_520000/model.ckpt-1847 --do_lower_case=True --output_dir=./fine_out_x_eval/pretraining_checkpoint_520000/model-1847;\n",
      "mkdir ./fine_out_x_eval/pretraining_checkpoint_540000;\n",
      "mkdir ./fine_out_x_eval/pretraining_checkpoint_540000/model-0;\n",
      "mkdir ./fine_out_x_eval/pretraining_checkpoint_540000/model-1000;\n",
      "mkdir ./fine_out_x_eval/pretraining_checkpoint_540000/model-1847;\n",
      "python3 ./bert/bert_ner_x.py --task_name=NER --do_eval=True --data_dir=./data --vocab_file=./uncasedBERT/vocab.txt --bert_config_file=./uncasedBERT/bert_config.json --init_checkpoint=./fine_out_x/checkpoint_540000/model.ckpt-0 --do_lower_case=True --output_dir=./fine_out_x_eval/pretraining_checkpoint_540000/model-0;\n",
      "python3 ./bert/bert_ner_x.py --task_name=NER --do_eval=True --data_dir=./data --vocab_file=./uncasedBERT/vocab.txt --bert_config_file=./uncasedBERT/bert_config.json --init_checkpoint=./fine_out_x/checkpoint_540000/model.ckpt-1000 --do_lower_case=True --output_dir=./fine_out_x_eval/pretraining_checkpoint_540000/model-1000;\n",
      "python3 ./bert/bert_ner_x.py --task_name=NER --do_eval=True --data_dir=./data --vocab_file=./uncasedBERT/vocab.txt --bert_config_file=./uncasedBERT/bert_config.json --init_checkpoint=./fine_out_x/checkpoint_540000/model.ckpt-1847 --do_lower_case=True --output_dir=./fine_out_x_eval/pretraining_checkpoint_540000/model-1847;\n",
      "mkdir ./fine_out_x_eval/pretraining_checkpoint_560000;\n",
      "mkdir ./fine_out_x_eval/pretraining_checkpoint_560000/model-0;\n",
      "mkdir ./fine_out_x_eval/pretraining_checkpoint_560000/model-1000;\n",
      "mkdir ./fine_out_x_eval/pretraining_checkpoint_560000/model-1847;\n",
      "python3 ./bert/bert_ner_x.py --task_name=NER --do_eval=True --data_dir=./data --vocab_file=./uncasedBERT/vocab.txt --bert_config_file=./uncasedBERT/bert_config.json --init_checkpoint=./fine_out_x/checkpoint_560000/model.ckpt-0 --do_lower_case=True --output_dir=./fine_out_x_eval/pretraining_checkpoint_560000/model-0;\n",
      "python3 ./bert/bert_ner_x.py --task_name=NER --do_eval=True --data_dir=./data --vocab_file=./uncasedBERT/vocab.txt --bert_config_file=./uncasedBERT/bert_config.json --init_checkpoint=./fine_out_x/checkpoint_560000/model.ckpt-1000 --do_lower_case=True --output_dir=./fine_out_x_eval/pretraining_checkpoint_560000/model-1000;\n",
      "python3 ./bert/bert_ner_x.py --task_name=NER --do_eval=True --data_dir=./data --vocab_file=./uncasedBERT/vocab.txt --bert_config_file=./uncasedBERT/bert_config.json --init_checkpoint=./fine_out_x/checkpoint_560000/model.ckpt-1847 --do_lower_case=True --output_dir=./fine_out_x_eval/pretraining_checkpoint_560000/model-1847;\n",
      "mkdir ./fine_out_x_eval/pretraining_checkpoint_580000;\n",
      "mkdir ./fine_out_x_eval/pretraining_checkpoint_580000/model-0;\n",
      "mkdir ./fine_out_x_eval/pretraining_checkpoint_580000/model-1000;\n",
      "mkdir ./fine_out_x_eval/pretraining_checkpoint_580000/model-1847;\n",
      "python3 ./bert/bert_ner_x.py --task_name=NER --do_eval=True --data_dir=./data --vocab_file=./uncasedBERT/vocab.txt --bert_config_file=./uncasedBERT/bert_config.json --init_checkpoint=./fine_out_x/checkpoint_580000/model.ckpt-0 --do_lower_case=True --output_dir=./fine_out_x_eval/pretraining_checkpoint_580000/model-0;\n",
      "python3 ./bert/bert_ner_x.py --task_name=NER --do_eval=True --data_dir=./data --vocab_file=./uncasedBERT/vocab.txt --bert_config_file=./uncasedBERT/bert_config.json --init_checkpoint=./fine_out_x/checkpoint_580000/model.ckpt-1000 --do_lower_case=True --output_dir=./fine_out_x_eval/pretraining_checkpoint_580000/model-1000;\n",
      "python3 ./bert/bert_ner_x.py --task_name=NER --do_eval=True --data_dir=./data --vocab_file=./uncasedBERT/vocab.txt --bert_config_file=./uncasedBERT/bert_config.json --init_checkpoint=./fine_out_x/checkpoint_580000/model.ckpt-1847 --do_lower_case=True --output_dir=./fine_out_x_eval/pretraining_checkpoint_580000/model-1847;\n",
      "mkdir ./fine_out_x_eval/pretraining_checkpoint_600000;\n",
      "mkdir ./fine_out_x_eval/pretraining_checkpoint_600000/model-0;\n",
      "mkdir ./fine_out_x_eval/pretraining_checkpoint_600000/model-1000;\n",
      "mkdir ./fine_out_x_eval/pretraining_checkpoint_600000/model-1847;\n",
      "python3 ./bert/bert_ner_x.py --task_name=NER --do_eval=True --data_dir=./data --vocab_file=./uncasedBERT/vocab.txt --bert_config_file=./uncasedBERT/bert_config.json --init_checkpoint=./fine_out_x/checkpoint_600000/model.ckpt-0 --do_lower_case=True --output_dir=./fine_out_x_eval/pretraining_checkpoint_600000/model-0;\n",
      "python3 ./bert/bert_ner_x.py --task_name=NER --do_eval=True --data_dir=./data --vocab_file=./uncasedBERT/vocab.txt --bert_config_file=./uncasedBERT/bert_config.json --init_checkpoint=./fine_out_x/checkpoint_600000/model.ckpt-1000 --do_lower_case=True --output_dir=./fine_out_x_eval/pretraining_checkpoint_600000/model-1000;\n",
      "python3 ./bert/bert_ner_x.py --task_name=NER --do_eval=True --data_dir=./data --vocab_file=./uncasedBERT/vocab.txt --bert_config_file=./uncasedBERT/bert_config.json --init_checkpoint=./fine_out_x/checkpoint_600000/model.ckpt-1847 --do_lower_case=True --output_dir=./fine_out_x_eval/pretraining_checkpoint_600000/model-1847;\n",
      "mkdir ./fine_out_x_eval/pretraining_checkpoint_620000;\n",
      "mkdir ./fine_out_x_eval/pretraining_checkpoint_620000/model-0;\n",
      "mkdir ./fine_out_x_eval/pretraining_checkpoint_620000/model-1000;\n",
      "mkdir ./fine_out_x_eval/pretraining_checkpoint_620000/model-1847;\n",
      "python3 ./bert/bert_ner_x.py --task_name=NER --do_eval=True --data_dir=./data --vocab_file=./uncasedBERT/vocab.txt --bert_config_file=./uncasedBERT/bert_config.json --init_checkpoint=./fine_out_x/checkpoint_620000/model.ckpt-0 --do_lower_case=True --output_dir=./fine_out_x_eval/pretraining_checkpoint_620000/model-0;\n",
      "python3 ./bert/bert_ner_x.py --task_name=NER --do_eval=True --data_dir=./data --vocab_file=./uncasedBERT/vocab.txt --bert_config_file=./uncasedBERT/bert_config.json --init_checkpoint=./fine_out_x/checkpoint_620000/model.ckpt-1000 --do_lower_case=True --output_dir=./fine_out_x_eval/pretraining_checkpoint_620000/model-1000;\n",
      "python3 ./bert/bert_ner_x.py --task_name=NER --do_eval=True --data_dir=./data --vocab_file=./uncasedBERT/vocab.txt --bert_config_file=./uncasedBERT/bert_config.json --init_checkpoint=./fine_out_x/checkpoint_620000/model.ckpt-1847 --do_lower_case=True --output_dir=./fine_out_x_eval/pretraining_checkpoint_620000/model-1847;\n",
      "mkdir ./fine_out_x_eval/pretraining_checkpoint_640000;\n",
      "mkdir ./fine_out_x_eval/pretraining_checkpoint_640000/model-0;\n",
      "mkdir ./fine_out_x_eval/pretraining_checkpoint_640000/model-1000;\n",
      "mkdir ./fine_out_x_eval/pretraining_checkpoint_640000/model-1847;\n",
      "python3 ./bert/bert_ner_x.py --task_name=NER --do_eval=True --data_dir=./data --vocab_file=./uncasedBERT/vocab.txt --bert_config_file=./uncasedBERT/bert_config.json --init_checkpoint=./fine_out_x/checkpoint_640000/model.ckpt-0 --do_lower_case=True --output_dir=./fine_out_x_eval/pretraining_checkpoint_640000/model-0;\n",
      "python3 ./bert/bert_ner_x.py --task_name=NER --do_eval=True --data_dir=./data --vocab_file=./uncasedBERT/vocab.txt --bert_config_file=./uncasedBERT/bert_config.json --init_checkpoint=./fine_out_x/checkpoint_640000/model.ckpt-1000 --do_lower_case=True --output_dir=./fine_out_x_eval/pretraining_checkpoint_640000/model-1000;\n",
      "python3 ./bert/bert_ner_x.py --task_name=NER --do_eval=True --data_dir=./data --vocab_file=./uncasedBERT/vocab.txt --bert_config_file=./uncasedBERT/bert_config.json --init_checkpoint=./fine_out_x/checkpoint_640000/model.ckpt-1847 --do_lower_case=True --output_dir=./fine_out_x_eval/pretraining_checkpoint_640000/model-1847;\n",
      "mkdir ./fine_out_x_eval/pretraining_checkpoint_660000;\n",
      "mkdir ./fine_out_x_eval/pretraining_checkpoint_660000/model-0;\n",
      "mkdir ./fine_out_x_eval/pretraining_checkpoint_660000/model-1000;\n",
      "mkdir ./fine_out_x_eval/pretraining_checkpoint_660000/model-1847;\n",
      "python3 ./bert/bert_ner_x.py --task_name=NER --do_eval=True --data_dir=./data --vocab_file=./uncasedBERT/vocab.txt --bert_config_file=./uncasedBERT/bert_config.json --init_checkpoint=./fine_out_x/checkpoint_660000/model.ckpt-0 --do_lower_case=True --output_dir=./fine_out_x_eval/pretraining_checkpoint_660000/model-0;\n",
      "python3 ./bert/bert_ner_x.py --task_name=NER --do_eval=True --data_dir=./data --vocab_file=./uncasedBERT/vocab.txt --bert_config_file=./uncasedBERT/bert_config.json --init_checkpoint=./fine_out_x/checkpoint_660000/model.ckpt-1000 --do_lower_case=True --output_dir=./fine_out_x_eval/pretraining_checkpoint_660000/model-1000;\n",
      "python3 ./bert/bert_ner_x.py --task_name=NER --do_eval=True --data_dir=./data --vocab_file=./uncasedBERT/vocab.txt --bert_config_file=./uncasedBERT/bert_config.json --init_checkpoint=./fine_out_x/checkpoint_660000/model.ckpt-1847 --do_lower_case=True --output_dir=./fine_out_x_eval/pretraining_checkpoint_660000/model-1847;\n",
      "mkdir ./fine_out_x_eval/pretraining_checkpoint_680000;\n",
      "mkdir ./fine_out_x_eval/pretraining_checkpoint_680000/model-0;\n",
      "mkdir ./fine_out_x_eval/pretraining_checkpoint_680000/model-1000;\n",
      "mkdir ./fine_out_x_eval/pretraining_checkpoint_680000/model-1847;\n",
      "python3 ./bert/bert_ner_x.py --task_name=NER --do_eval=True --data_dir=./data --vocab_file=./uncasedBERT/vocab.txt --bert_config_file=./uncasedBERT/bert_config.json --init_checkpoint=./fine_out_x/checkpoint_680000/model.ckpt-0 --do_lower_case=True --output_dir=./fine_out_x_eval/pretraining_checkpoint_680000/model-0;\n",
      "python3 ./bert/bert_ner_x.py --task_name=NER --do_eval=True --data_dir=./data --vocab_file=./uncasedBERT/vocab.txt --bert_config_file=./uncasedBERT/bert_config.json --init_checkpoint=./fine_out_x/checkpoint_680000/model.ckpt-1000 --do_lower_case=True --output_dir=./fine_out_x_eval/pretraining_checkpoint_680000/model-1000;\n",
      "python3 ./bert/bert_ner_x.py --task_name=NER --do_eval=True --data_dir=./data --vocab_file=./uncasedBERT/vocab.txt --bert_config_file=./uncasedBERT/bert_config.json --init_checkpoint=./fine_out_x/checkpoint_680000/model.ckpt-1847 --do_lower_case=True --output_dir=./fine_out_x_eval/pretraining_checkpoint_680000/model-1847;\n",
      "mkdir ./fine_out_x_eval/pretraining_checkpoint_700000;\n",
      "mkdir ./fine_out_x_eval/pretraining_checkpoint_700000/model-0;\n",
      "mkdir ./fine_out_x_eval/pretraining_checkpoint_700000/model-1000;\n",
      "mkdir ./fine_out_x_eval/pretraining_checkpoint_700000/model-1847;\n",
      "python3 ./bert/bert_ner_x.py --task_name=NER --do_eval=True --data_dir=./data --vocab_file=./uncasedBERT/vocab.txt --bert_config_file=./uncasedBERT/bert_config.json --init_checkpoint=./fine_out_x/checkpoint_700000/model.ckpt-0 --do_lower_case=True --output_dir=./fine_out_x_eval/pretraining_checkpoint_700000/model-0;\n",
      "python3 ./bert/bert_ner_x.py --task_name=NER --do_eval=True --data_dir=./data --vocab_file=./uncasedBERT/vocab.txt --bert_config_file=./uncasedBERT/bert_config.json --init_checkpoint=./fine_out_x/checkpoint_700000/model.ckpt-1000 --do_lower_case=True --output_dir=./fine_out_x_eval/pretraining_checkpoint_700000/model-1000;\n",
      "python3 ./bert/bert_ner_x.py --task_name=NER --do_eval=True --data_dir=./data --vocab_file=./uncasedBERT/vocab.txt --bert_config_file=./uncasedBERT/bert_config.json --init_checkpoint=./fine_out_x/checkpoint_700000/model.ckpt-1847 --do_lower_case=True --output_dir=./fine_out_x_eval/pretraining_checkpoint_700000/model-1847;\n",
      "mkdir ./fine_out_x_eval/pretraining_checkpoint_720000;\n",
      "mkdir ./fine_out_x_eval/pretraining_checkpoint_720000/model-0;\n",
      "mkdir ./fine_out_x_eval/pretraining_checkpoint_720000/model-1000;\n",
      "mkdir ./fine_out_x_eval/pretraining_checkpoint_720000/model-1847;\n",
      "python3 ./bert/bert_ner_x.py --task_name=NER --do_eval=True --data_dir=./data --vocab_file=./uncasedBERT/vocab.txt --bert_config_file=./uncasedBERT/bert_config.json --init_checkpoint=./fine_out_x/checkpoint_720000/model.ckpt-0 --do_lower_case=True --output_dir=./fine_out_x_eval/pretraining_checkpoint_720000/model-0;\n",
      "python3 ./bert/bert_ner_x.py --task_name=NER --do_eval=True --data_dir=./data --vocab_file=./uncasedBERT/vocab.txt --bert_config_file=./uncasedBERT/bert_config.json --init_checkpoint=./fine_out_x/checkpoint_720000/model.ckpt-1000 --do_lower_case=True --output_dir=./fine_out_x_eval/pretraining_checkpoint_720000/model-1000;\n",
      "python3 ./bert/bert_ner_x.py --task_name=NER --do_eval=True --data_dir=./data --vocab_file=./uncasedBERT/vocab.txt --bert_config_file=./uncasedBERT/bert_config.json --init_checkpoint=./fine_out_x/checkpoint_720000/model.ckpt-1847 --do_lower_case=True --output_dir=./fine_out_x_eval/pretraining_checkpoint_720000/model-1847;\n",
      "mkdir ./fine_out_x_eval/pretraining_checkpoint_740000;\n",
      "mkdir ./fine_out_x_eval/pretraining_checkpoint_740000/model-0;\n",
      "mkdir ./fine_out_x_eval/pretraining_checkpoint_740000/model-1000;\n",
      "mkdir ./fine_out_x_eval/pretraining_checkpoint_740000/model-1847;\n",
      "python3 ./bert/bert_ner_x.py --task_name=NER --do_eval=True --data_dir=./data --vocab_file=./uncasedBERT/vocab.txt --bert_config_file=./uncasedBERT/bert_config.json --init_checkpoint=./fine_out_x/checkpoint_740000/model.ckpt-0 --do_lower_case=True --output_dir=./fine_out_x_eval/pretraining_checkpoint_740000/model-0;\n",
      "python3 ./bert/bert_ner_x.py --task_name=NER --do_eval=True --data_dir=./data --vocab_file=./uncasedBERT/vocab.txt --bert_config_file=./uncasedBERT/bert_config.json --init_checkpoint=./fine_out_x/checkpoint_740000/model.ckpt-1000 --do_lower_case=True --output_dir=./fine_out_x_eval/pretraining_checkpoint_740000/model-1000;\n",
      "python3 ./bert/bert_ner_x.py --task_name=NER --do_eval=True --data_dir=./data --vocab_file=./uncasedBERT/vocab.txt --bert_config_file=./uncasedBERT/bert_config.json --init_checkpoint=./fine_out_x/checkpoint_740000/model.ckpt-1847 --do_lower_case=True --output_dir=./fine_out_x_eval/pretraining_checkpoint_740000/model-1847;\n",
      "mkdir ./fine_out_x_eval/pretraining_checkpoint_760000;\n",
      "mkdir ./fine_out_x_eval/pretraining_checkpoint_760000/model-0;\n",
      "mkdir ./fine_out_x_eval/pretraining_checkpoint_760000/model-1000;\n",
      "mkdir ./fine_out_x_eval/pretraining_checkpoint_760000/model-1847;\n",
      "python3 ./bert/bert_ner_x.py --task_name=NER --do_eval=True --data_dir=./data --vocab_file=./uncasedBERT/vocab.txt --bert_config_file=./uncasedBERT/bert_config.json --init_checkpoint=./fine_out_x/checkpoint_760000/model.ckpt-0 --do_lower_case=True --output_dir=./fine_out_x_eval/pretraining_checkpoint_760000/model-0;\n",
      "python3 ./bert/bert_ner_x.py --task_name=NER --do_eval=True --data_dir=./data --vocab_file=./uncasedBERT/vocab.txt --bert_config_file=./uncasedBERT/bert_config.json --init_checkpoint=./fine_out_x/checkpoint_760000/model.ckpt-1000 --do_lower_case=True --output_dir=./fine_out_x_eval/pretraining_checkpoint_760000/model-1000;\n",
      "python3 ./bert/bert_ner_x.py --task_name=NER --do_eval=True --data_dir=./data --vocab_file=./uncasedBERT/vocab.txt --bert_config_file=./uncasedBERT/bert_config.json --init_checkpoint=./fine_out_x/checkpoint_760000/model.ckpt-1847 --do_lower_case=True --output_dir=./fine_out_x_eval/pretraining_checkpoint_760000/model-1847;\n",
      "mkdir ./fine_out_x_eval/pretraining_checkpoint_780000;\n",
      "mkdir ./fine_out_x_eval/pretraining_checkpoint_780000/model-0;\n",
      "mkdir ./fine_out_x_eval/pretraining_checkpoint_780000/model-1000;\n",
      "mkdir ./fine_out_x_eval/pretraining_checkpoint_780000/model-1847;\n",
      "python3 ./bert/bert_ner_x.py --task_name=NER --do_eval=True --data_dir=./data --vocab_file=./uncasedBERT/vocab.txt --bert_config_file=./uncasedBERT/bert_config.json --init_checkpoint=./fine_out_x/checkpoint_780000/model.ckpt-0 --do_lower_case=True --output_dir=./fine_out_x_eval/pretraining_checkpoint_780000/model-0;\n",
      "python3 ./bert/bert_ner_x.py --task_name=NER --do_eval=True --data_dir=./data --vocab_file=./uncasedBERT/vocab.txt --bert_config_file=./uncasedBERT/bert_config.json --init_checkpoint=./fine_out_x/checkpoint_780000/model.ckpt-1000 --do_lower_case=True --output_dir=./fine_out_x_eval/pretraining_checkpoint_780000/model-1000;\n",
      "python3 ./bert/bert_ner_x.py --task_name=NER --do_eval=True --data_dir=./data --vocab_file=./uncasedBERT/vocab.txt --bert_config_file=./uncasedBERT/bert_config.json --init_checkpoint=./fine_out_x/checkpoint_780000/model.ckpt-1847 --do_lower_case=True --output_dir=./fine_out_x_eval/pretraining_checkpoint_780000/model-1847;\n",
      "mkdir ./fine_out_x_eval/pretraining_checkpoint_800000;\n",
      "mkdir ./fine_out_x_eval/pretraining_checkpoint_800000/model-0;\n",
      "mkdir ./fine_out_x_eval/pretraining_checkpoint_800000/model-1000;\n",
      "mkdir ./fine_out_x_eval/pretraining_checkpoint_800000/model-1847;\n",
      "python3 ./bert/bert_ner_x.py --task_name=NER --do_eval=True --data_dir=./data --vocab_file=./uncasedBERT/vocab.txt --bert_config_file=./uncasedBERT/bert_config.json --init_checkpoint=./fine_out_x/checkpoint_800000/model.ckpt-0 --do_lower_case=True --output_dir=./fine_out_x_eval/pretraining_checkpoint_800000/model-0;\n",
      "python3 ./bert/bert_ner_x.py --task_name=NER --do_eval=True --data_dir=./data --vocab_file=./uncasedBERT/vocab.txt --bert_config_file=./uncasedBERT/bert_config.json --init_checkpoint=./fine_out_x/checkpoint_800000/model.ckpt-1000 --do_lower_case=True --output_dir=./fine_out_x_eval/pretraining_checkpoint_800000/model-1000;\n",
      "python3 ./bert/bert_ner_x.py --task_name=NER --do_eval=True --data_dir=./data --vocab_file=./uncasedBERT/vocab.txt --bert_config_file=./uncasedBERT/bert_config.json --init_checkpoint=./fine_out_x/checkpoint_800000/model.ckpt-1847 --do_lower_case=True --output_dir=./fine_out_x_eval/pretraining_checkpoint_800000/model-1847;\n"
     ]
    }
   ],
   "source": [
    "#to evaluate the process of fine-tuning checkpoints for each model\n",
    "for i in range(0,820000,20000):\n",
    "    #print(\"mkdir ./fine_out_x/checkpoint_\"+str(i)+\";\")\n",
    "    #print(\"python3 ./bert/bert_ner_x.py --task_name=NER --do_train=True --do_eval=True --data_dir=./data --vocab_file=./uncasedBERT/vocab.txt --bert_config_file=./uncasedBERT/bert_config.json --init_checkpoint=./mimicpretraining/out/model.ckpt-\"+str(i)+\" --do_lower_case=True --output_dir=./fine_out_x/checkpoint_\"+str(i)+\";\")\n",
    "    print(\"mkdir ./fine_out_x_eval/pretraining_checkpoint_\"+str(i)+\";\")\n",
    "    print(\"mkdir ./fine_out_x_eval/pretraining_checkpoint_\"+str(i)+\"/model-0;\")\n",
    "    print(\"mkdir ./fine_out_x_eval/pretraining_checkpoint_\"+str(i)+\"/model-1000;\")\n",
    "    print(\"mkdir ./fine_out_x_eval/pretraining_checkpoint_\"+str(i)+\"/model-1847;\")\n",
    "    print(\"python3 ./bert/bert_ner_x.py --task_name=NER --do_eval=True --data_dir=./data --vocab_file=./uncasedBERT/vocab.txt --bert_config_file=./uncasedBERT/bert_config.json --init_checkpoint=./fine_out_x/checkpoint_\"+str(i)+\"/model.ckpt-0 --do_lower_case=True --output_dir=./fine_out_x_eval/pretraining_checkpoint_\"+str(i)+\"/model-0;\")\n",
    "    print(\"python3 ./bert/bert_ner_x.py --task_name=NER --do_eval=True --data_dir=./data --vocab_file=./uncasedBERT/vocab.txt --bert_config_file=./uncasedBERT/bert_config.json --init_checkpoint=./fine_out_x/checkpoint_\"+str(i)+\"/model.ckpt-1000 --do_lower_case=True --output_dir=./fine_out_x_eval/pretraining_checkpoint_\"+str(i)+\"/model-1000;\")\n",
    "    print(\"python3 ./bert/bert_ner_x.py --task_name=NER --do_eval=True --data_dir=./data --vocab_file=./uncasedBERT/vocab.txt --bert_config_file=./uncasedBERT/bert_config.json --init_checkpoint=./fine_out_x/checkpoint_\"+str(i)+\"/model.ckpt-1847 --do_lower_case=True --output_dir=./fine_out_x_eval/pretraining_checkpoint_\"+str(i)+\"/model-1847;\")"
   ]
  },
  {
   "cell_type": "code",
   "execution_count": 9,
   "metadata": {},
   "outputs": [
    {
     "name": "stdout",
     "output_type": "stream",
     "text": [
      "mkdir ./fine_out_n_eval/pretraining_checkpoint_800000;\n",
      "mkdir ./eval/x800/model-0;\n",
      "mkdir ./eval/x800/model-1000;\n",
      "mkdir ./eval/x800/model-2000;\n",
      "mkdir ./eval/x800/model-3000;\n",
      "mkdir ./eval/x800/model-3078;\n",
      "python3 ./bert/bert_ner_x.py --task_name=NER --do_eval=True --data_dir=./data --vocab_file=./uncasedBERT/vocab.txt --bert_config_file=./uncasedBERT/bert_config.json --init_checkpoint=./fine_out_x/checkpoint_800000/model.ckpt-0 --do_lower_case=True --output_dir=./fine_out_x_eval/pretraining_checkpoint_800000/model-0;\n",
      "python3 ./bert/bert_ner_x.py --task_name=NER --do_eval=True --data_dir=./data --vocab_file=./uncasedBERT/vocab.txt --bert_config_file=./uncasedBERT/bert_config.json --init_checkpoint=./fine_out_x/checkpoint_800000/model.ckpt-0 --do_lower_case=True --output_dir=./fine_out_x_eval/pretraining_checkpoint_800000/model-1000;\n",
      "python3 ./bert/bert_ner_x.py --task_name=NER --do_eval=True --data_dir=./data --vocab_file=./uncasedBERT/vocab.txt --bert_config_file=./uncasedBERT/bert_config.json --init_checkpoint=./fine_out_x/checkpoint_800000/model.ckpt-0 --do_lower_case=True --output_dir=./fine_out_x_eval/pretraining_checkpoint_800000/model-2000;\n",
      "python3 ./bert/bert_ner_x.py --task_name=NER --do_eval=True --data_dir=./data --vocab_file=./uncasedBERT/vocab.txt --bert_config_file=./uncasedBERT/bert_config.json --init_checkpoint=./fine_out_x/checkpoint_800000/model.ckpt-0 --do_lower_case=True --output_dir=./fine_out_x_eval/pretraining_checkpoint_800000/model-3000;\n",
      "python3 ./bert/bert_ner_x.py --task_name=NER --do_eval=True --data_dir=./data --vocab_file=./uncasedBERT/vocab.txt --bert_config_file=./uncasedBERT/bert_config.json --init_checkpoint=./fine_out_x/checkpoint_800000/model.ckpt-0 --do_lower_case=True --output_dir=./fine_out_x_eval/pretraining_checkpoint_800000/model-3078;\n"
     ]
    }
   ],
   "source": [
    "i = 800000\n",
    "print(\"mkdir ./fine_out_n_eval/pretraining_checkpoint_\"+str(i)+\";\")\n",
    "for j in [0,1000, 2000, 3000, 3078]:\n",
    "    print(\"mkdir ./eval/x800/model-\"+str(j)+\";\")\n",
    "for j in [0,1000, 2000, 3000, 3078]:\n",
    "    print(\"python3 ./bert/bert_ner_x.py --task_name=NER --do_eval=True --data_dir=./data --vocab_file=./uncasedBERT/vocab.txt --bert_config_file=./uncasedBERT/bert_config.json --init_checkpoint=./fine_out_x/checkpoint_\"+str(i)+\"/model.ckpt-0 --do_lower_case=True --output_dir=./fine_out_x_eval/pretraining_checkpoint_\"+str(i)+\"/model-\"+str(j)+\";\")"
   ]
  },
  {
   "cell_type": "code",
   "execution_count": 18,
   "metadata": {},
   "outputs": [
    {
     "name": "stdout",
     "output_type": "stream",
     "text": [
      "mkdir ./eval/0_5e/model-0;\n",
      "mkdir ./eval/0_5e/model-1000;\n",
      "mkdir ./eval/0_5e/model-2000;\n",
      "mkdir ./eval/0_5e/model-3000;\n",
      "mkdir ./eval/0_5e/model-3078;\n",
      "python3 ./bert/bert_ner.py --task_name=NER --do_eval=True --data_dir=./data --vocab_file=./uncasedBERT/vocab.txt --bert_config_file=./uncasedBERT/bert_config.json --init_checkpoint=./fine_out_5e/checkpoint_0/model.ckpt-0 --do_lower_case=True --output_dir=./eval/0_5e/model-0;\n",
      "python3 ./bert/bert_ner.py --task_name=NER --do_eval=True --data_dir=./data --vocab_file=./uncasedBERT/vocab.txt --bert_config_file=./uncasedBERT/bert_config.json --init_checkpoint=./fine_out_5e/checkpoint_0/model.ckpt-1000 --do_lower_case=True --output_dir=./eval/0_5e/model-1000;\n",
      "python3 ./bert/bert_ner.py --task_name=NER --do_eval=True --data_dir=./data --vocab_file=./uncasedBERT/vocab.txt --bert_config_file=./uncasedBERT/bert_config.json --init_checkpoint=./fine_out_5e/checkpoint_0/model.ckpt-2000 --do_lower_case=True --output_dir=./eval/0_5e/model-2000;\n",
      "python3 ./bert/bert_ner.py --task_name=NER --do_eval=True --data_dir=./data --vocab_file=./uncasedBERT/vocab.txt --bert_config_file=./uncasedBERT/bert_config.json --init_checkpoint=./fine_out_5e/checkpoint_0/model.ckpt-3000 --do_lower_case=True --output_dir=./eval/0_5e/model-3000;\n",
      "python3 ./bert/bert_ner.py --task_name=NER --do_eval=True --data_dir=./data --vocab_file=./uncasedBERT/vocab.txt --bert_config_file=./uncasedBERT/bert_config.json --init_checkpoint=./fine_out_5e/checkpoint_0/model.ckpt-3078 --do_lower_case=True --output_dir=./eval/0_5e/model-3078;\n"
     ]
    }
   ],
   "source": [
    "i = 0\n",
    "l = [0,1000,1847]\n",
    "l2 = [0,1000, 2000, 3000, 3078]\n",
    "#print(\"mkdir ./fine_out_n_eval/pretraining_checkpoint_\"+str(i)+\";\")\n",
    "for j in l2:\n",
    "    print(\"mkdir ./eval/0_5e/model-\"+str(j)+\";\")\n",
    "for j in l2:\n",
    "    print(\"python3 ./bert/bert_ner.py --task_name=NER --do_eval=True --data_dir=./data --vocab_file=./uncasedBERT/vocab.txt --bert_config_file=./uncasedBERT/bert_config.json --init_checkpoint=./fine_out_5e/checkpoint_\"+str(i)+\"/model.ckpt-\"+ str(j)+ \" --do_lower_case=True --output_dir=./eval/0_5e/model-\"+str(j)+\";\")"
   ]
  },
  {
   "cell_type": "code",
   "execution_count": null,
   "metadata": {},
   "outputs": [],
   "source": [
    "python3 ./bert/ner.py --task_name=NER --do_eval=True --do_train=True --data_dir=./data --vocab_file=./uncasedBERT/vocab.txt --bert_config_file=./uncasedBERT/bert_config.json --init_checkpoint=./mimicpretraining/out/model.ckpt-20000 --do_lower_case=True --output_dir=./eval"
   ]
  },
  {
   "cell_type": "code",
   "execution_count": null,
   "metadata": {},
   "outputs": [],
   "source": []
  }
 ],
 "metadata": {
  "kernelspec": {
   "display_name": "Python 3",
   "language": "python",
   "name": "python3"
  },
  "language_info": {
   "codemirror_mode": {
    "name": "ipython",
    "version": 3
   },
   "file_extension": ".py",
   "mimetype": "text/x-python",
   "name": "python",
   "nbconvert_exporter": "python",
   "pygments_lexer": "ipython3",
   "version": "3.7.2"
  }
 },
 "nbformat": 4,
 "nbformat_minor": 2
}
